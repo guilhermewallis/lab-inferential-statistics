{
 "cells": [
  {
   "cell_type": "markdown",
   "id": "05fbfaae",
   "metadata": {},
   "source": [
    "## 1. Set up the hypothesis test"
   ]
  },
  {
   "cell_type": "markdown",
   "id": "593ca588",
   "metadata": {},
   "source": [
    "#### Null hypothesis\n",
    "* H0: u = 120\n",
    "#### Alternative hypothesis\n",
    "* Ha: u > 120"
   ]
  },
  {
   "cell_type": "markdown",
   "id": "5e5eb577",
   "metadata": {},
   "source": [
    "## 2. Write down all the steps"
   ]
  },
  {
   "cell_type": "markdown",
   "id": "ebbdd6cc",
   "metadata": {},
   "source": [
    "* One-tailed test: checking if the mean of the population sample is higher than the mean of the overall population\n",
    "* T-test: standard deviation is known, assuming sample is normally distributed\n",
    "* Level of significance - 0.05 threshold\n",
    "* Calculate test statistics according to t-table\n",
    "* Conclusion based on critical region"
   ]
  },
  {
   "cell_type": "markdown",
   "id": "9b2b9bc2",
   "metadata": {},
   "source": [
    "## 3. Calculate the test statistic"
   ]
  },
  {
   "cell_type": "code",
   "execution_count": 4,
   "id": "84ab5129",
   "metadata": {},
   "outputs": [],
   "source": [
    "import math\n",
    "from scipy.stats import ttest_ind, norm"
   ]
  },
  {
   "cell_type": "code",
   "execution_count": 6,
   "id": "574624cb",
   "metadata": {},
   "outputs": [
    {
     "data": {
      "text/plain": [
       "4.761904761904759"
      ]
     },
     "execution_count": 6,
     "metadata": {},
     "output_type": "execute_result"
    }
   ],
   "source": [
    "pop_mean = 120\n",
    "\n",
    "n = 100\n",
    "sample_mean = 130.1\n",
    "sample_std = 21.21\n",
    "\n",
    "statistic = (sample_mean - pop_mean)/(sample_std/math.sqrt(n))\n",
    "statistic"
   ]
  },
  {
   "cell_type": "markdown",
   "id": "eb634850",
   "metadata": {},
   "source": [
    "#### T-table: one-tailed alpha 0.05 99DF = 1.66\n",
    "* 4.76 > 1.66 - null hypothesis rejected with 95% confidence"
   ]
  }
 ],
 "metadata": {
  "kernelspec": {
   "display_name": "Python 3 (ipykernel)",
   "language": "python",
   "name": "python3"
  },
  "language_info": {
   "codemirror_mode": {
    "name": "ipython",
    "version": 3
   },
   "file_extension": ".py",
   "mimetype": "text/x-python",
   "name": "python",
   "nbconvert_exporter": "python",
   "pygments_lexer": "ipython3",
   "version": "3.10.9"
  }
 },
 "nbformat": 4,
 "nbformat_minor": 5
}
